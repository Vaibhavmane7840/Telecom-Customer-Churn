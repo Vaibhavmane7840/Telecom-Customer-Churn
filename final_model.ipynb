{
 "cells": [
  {
   "cell_type": "code",
   "execution_count": 1,
   "id": "a833eafd",
   "metadata": {},
   "outputs": [],
   "source": [
    "# import packages/libraries \n",
    "import warnings\n",
    "warnings.filterwarnings('ignore')\n",
    "\n",
    "import numpy as np\n",
    "import pandas as pd\n",
    "import matplotlib.pyplot as plt\n",
    "\n",
    "from sklearn.preprocessing import LabelEncoder\n",
    "from sklearn.preprocessing import MinMaxScaler\n",
    "from sklearn.model_selection import train_test_split\n",
    "\n",
    "from xgboost import XGBClassifier\n",
    "\n",
    "from sklearn.metrics import confusion_matrix, ConfusionMatrixDisplay\n",
    "from sklearn.metrics import accuracy_score\n",
    "from sklearn.model_selection import cross_val_score\n",
    "from sklearn.metrics import classification_report\n",
    "\n",
    "from sklearn.model_selection import KFold\n",
    "from sklearn.metrics import roc_curve\n",
    "from sklearn.metrics import roc_auc_score\n",
    "import joblib"
   ]
  },
  {
   "cell_type": "code",
   "execution_count": 2,
   "id": "9323d20b",
   "metadata": {},
   "outputs": [
    {
     "data": {
      "text/html": [
       "<div>\n",
       "<style scoped>\n",
       "    .dataframe tbody tr th:only-of-type {\n",
       "        vertical-align: middle;\n",
       "    }\n",
       "\n",
       "    .dataframe tbody tr th {\n",
       "        vertical-align: top;\n",
       "    }\n",
       "\n",
       "    .dataframe thead th {\n",
       "        text-align: right;\n",
       "    }\n",
       "</style>\n",
       "<table border=\"1\" class=\"dataframe\">\n",
       "  <thead>\n",
       "    <tr style=\"text-align: right;\">\n",
       "      <th></th>\n",
       "      <th>Unnamed: 0</th>\n",
       "      <th>state</th>\n",
       "      <th>area.code</th>\n",
       "      <th>account.length</th>\n",
       "      <th>voice.plan</th>\n",
       "      <th>voice.messages</th>\n",
       "      <th>intl.plan</th>\n",
       "      <th>intl.mins</th>\n",
       "      <th>intl.calls</th>\n",
       "      <th>intl.charge</th>\n",
       "      <th>...</th>\n",
       "      <th>day.calls</th>\n",
       "      <th>day.charge</th>\n",
       "      <th>eve.mins</th>\n",
       "      <th>eve.calls</th>\n",
       "      <th>eve.charge</th>\n",
       "      <th>night.mins</th>\n",
       "      <th>night.calls</th>\n",
       "      <th>night.charge</th>\n",
       "      <th>customer.calls</th>\n",
       "      <th>churn</th>\n",
       "    </tr>\n",
       "  </thead>\n",
       "  <tbody>\n",
       "    <tr>\n",
       "      <th>0</th>\n",
       "      <td>1</td>\n",
       "      <td>KS</td>\n",
       "      <td>area_code_415</td>\n",
       "      <td>128</td>\n",
       "      <td>yes</td>\n",
       "      <td>25</td>\n",
       "      <td>no</td>\n",
       "      <td>10.0</td>\n",
       "      <td>3</td>\n",
       "      <td>2.70</td>\n",
       "      <td>...</td>\n",
       "      <td>110</td>\n",
       "      <td>45.07</td>\n",
       "      <td>197.4</td>\n",
       "      <td>99</td>\n",
       "      <td>16.78</td>\n",
       "      <td>244.7</td>\n",
       "      <td>91</td>\n",
       "      <td>11.01</td>\n",
       "      <td>1</td>\n",
       "      <td>no</td>\n",
       "    </tr>\n",
       "    <tr>\n",
       "      <th>1</th>\n",
       "      <td>2</td>\n",
       "      <td>OH</td>\n",
       "      <td>area_code_415</td>\n",
       "      <td>107</td>\n",
       "      <td>yes</td>\n",
       "      <td>26</td>\n",
       "      <td>no</td>\n",
       "      <td>13.7</td>\n",
       "      <td>3</td>\n",
       "      <td>3.70</td>\n",
       "      <td>...</td>\n",
       "      <td>123</td>\n",
       "      <td>27.47</td>\n",
       "      <td>195.5</td>\n",
       "      <td>103</td>\n",
       "      <td>16.62</td>\n",
       "      <td>254.4</td>\n",
       "      <td>103</td>\n",
       "      <td>11.45</td>\n",
       "      <td>1</td>\n",
       "      <td>no</td>\n",
       "    </tr>\n",
       "    <tr>\n",
       "      <th>2</th>\n",
       "      <td>3</td>\n",
       "      <td>NJ</td>\n",
       "      <td>area_code_415</td>\n",
       "      <td>137</td>\n",
       "      <td>no</td>\n",
       "      <td>0</td>\n",
       "      <td>no</td>\n",
       "      <td>12.2</td>\n",
       "      <td>5</td>\n",
       "      <td>3.29</td>\n",
       "      <td>...</td>\n",
       "      <td>114</td>\n",
       "      <td>41.38</td>\n",
       "      <td>121.2</td>\n",
       "      <td>110</td>\n",
       "      <td>10.30</td>\n",
       "      <td>162.6</td>\n",
       "      <td>104</td>\n",
       "      <td>7.32</td>\n",
       "      <td>0</td>\n",
       "      <td>no</td>\n",
       "    </tr>\n",
       "    <tr>\n",
       "      <th>3</th>\n",
       "      <td>4</td>\n",
       "      <td>OH</td>\n",
       "      <td>area_code_408</td>\n",
       "      <td>84</td>\n",
       "      <td>no</td>\n",
       "      <td>0</td>\n",
       "      <td>yes</td>\n",
       "      <td>6.6</td>\n",
       "      <td>7</td>\n",
       "      <td>1.78</td>\n",
       "      <td>...</td>\n",
       "      <td>71</td>\n",
       "      <td>50.9</td>\n",
       "      <td>61.9</td>\n",
       "      <td>88</td>\n",
       "      <td>5.26</td>\n",
       "      <td>196.9</td>\n",
       "      <td>89</td>\n",
       "      <td>8.86</td>\n",
       "      <td>2</td>\n",
       "      <td>no</td>\n",
       "    </tr>\n",
       "    <tr>\n",
       "      <th>4</th>\n",
       "      <td>5</td>\n",
       "      <td>OK</td>\n",
       "      <td>area_code_415</td>\n",
       "      <td>75</td>\n",
       "      <td>no</td>\n",
       "      <td>0</td>\n",
       "      <td>yes</td>\n",
       "      <td>10.1</td>\n",
       "      <td>3</td>\n",
       "      <td>2.73</td>\n",
       "      <td>...</td>\n",
       "      <td>113</td>\n",
       "      <td>28.34</td>\n",
       "      <td>148.3</td>\n",
       "      <td>122</td>\n",
       "      <td>12.61</td>\n",
       "      <td>186.9</td>\n",
       "      <td>121</td>\n",
       "      <td>8.41</td>\n",
       "      <td>3</td>\n",
       "      <td>no</td>\n",
       "    </tr>\n",
       "  </tbody>\n",
       "</table>\n",
       "<p>5 rows × 21 columns</p>\n",
       "</div>"
      ],
      "text/plain": [
       "   Unnamed: 0 state      area.code  account.length voice.plan  voice.messages  \\\n",
       "0           1    KS  area_code_415             128        yes              25   \n",
       "1           2    OH  area_code_415             107        yes              26   \n",
       "2           3    NJ  area_code_415             137         no               0   \n",
       "3           4    OH  area_code_408              84         no               0   \n",
       "4           5    OK  area_code_415              75         no               0   \n",
       "\n",
       "  intl.plan  intl.mins  intl.calls  intl.charge  ...  day.calls  day.charge  \\\n",
       "0        no       10.0           3         2.70  ...        110       45.07   \n",
       "1        no       13.7           3         3.70  ...        123       27.47   \n",
       "2        no       12.2           5         3.29  ...        114       41.38   \n",
       "3       yes        6.6           7         1.78  ...         71        50.9   \n",
       "4       yes       10.1           3         2.73  ...        113       28.34   \n",
       "\n",
       "  eve.mins eve.calls  eve.charge  night.mins  night.calls  night.charge  \\\n",
       "0    197.4        99       16.78       244.7           91         11.01   \n",
       "1    195.5       103       16.62       254.4          103         11.45   \n",
       "2    121.2       110       10.30       162.6          104          7.32   \n",
       "3     61.9        88        5.26       196.9           89          8.86   \n",
       "4    148.3       122       12.61       186.9          121          8.41   \n",
       "\n",
       "   customer.calls  churn  \n",
       "0               1     no  \n",
       "1               1     no  \n",
       "2               0     no  \n",
       "3               2     no  \n",
       "4               3     no  \n",
       "\n",
       "[5 rows x 21 columns]"
      ]
     },
     "execution_count": 2,
     "metadata": {},
     "output_type": "execute_result"
    }
   ],
   "source": [
    "# import data\n",
    "df = pd.read_csv(\"C:\\Data science\\ExcelR Project\\\\Churn.csv\")\n",
    "df.head()"
   ]
  },
  {
   "cell_type": "code",
   "execution_count": 3,
   "id": "5aa46569",
   "metadata": {},
   "outputs": [
    {
     "name": "stdout",
     "output_type": "stream",
     "text": [
      "<class 'pandas.core.frame.DataFrame'>\n",
      "RangeIndex: 5000 entries, 0 to 4999\n",
      "Data columns (total 21 columns):\n",
      " #   Column          Non-Null Count  Dtype  \n",
      "---  ------          --------------  -----  \n",
      " 0   Unnamed: 0      5000 non-null   int64  \n",
      " 1   state           5000 non-null   object \n",
      " 2   area.code       5000 non-null   object \n",
      " 3   account.length  5000 non-null   int64  \n",
      " 4   voice.plan      5000 non-null   object \n",
      " 5   voice.messages  5000 non-null   int64  \n",
      " 6   intl.plan       5000 non-null   object \n",
      " 7   intl.mins       5000 non-null   float64\n",
      " 8   intl.calls      5000 non-null   int64  \n",
      " 9   intl.charge     5000 non-null   float64\n",
      " 10  day.mins        5000 non-null   float64\n",
      " 11  day.calls       5000 non-null   int64  \n",
      " 12  day.charge      5000 non-null   object \n",
      " 13  eve.mins        5000 non-null   object \n",
      " 14  eve.calls       5000 non-null   int64  \n",
      " 15  eve.charge      5000 non-null   float64\n",
      " 16  night.mins      5000 non-null   float64\n",
      " 17  night.calls     5000 non-null   int64  \n",
      " 18  night.charge    5000 non-null   float64\n",
      " 19  customer.calls  5000 non-null   int64  \n",
      " 20  churn           5000 non-null   object \n",
      "dtypes: float64(6), int64(8), object(7)\n",
      "memory usage: 820.4+ KB\n"
     ]
    }
   ],
   "source": [
    "df.info()"
   ]
  },
  {
   "cell_type": "code",
   "execution_count": 4,
   "id": "723e6ab1",
   "metadata": {},
   "outputs": [],
   "source": [
    "# Drop unnamed column\n",
    "df = df.drop(columns=['Unnamed: 0'])"
   ]
  },
  {
   "cell_type": "code",
   "execution_count": 5,
   "id": "fd790fdb",
   "metadata": {},
   "outputs": [],
   "source": [
    "# Rename columns\n",
    "df = df.rename({'area.code':'area_code','account.length':'account_length','voice.plan':'voice_plan',\n",
    "                  'voice.messages':'voice_messages','intl.plan':'intl_plan','intl.mins':'intl_mins','intl.calls':'intl_calls',\n",
    "                  'intl.charge':'intl_charge','day.mins':'day_mins','day.calls':'day_calls',\n",
    "                  'day.charge':'day_charge','eve.mins':'eve_mins','eve.calls':'eve_calls',\n",
    "                  'eve.charge':'eve_charge','night.mins':'night_mins','night.calls':'night_calls',\n",
    "                  'night.charge':'night_charge','customer.calls':'customer_calls'}, axis= 1)"
   ]
  },
  {
   "cell_type": "code",
   "execution_count": 6,
   "id": "1d65c8f8",
   "metadata": {},
   "outputs": [
    {
     "data": {
      "text/plain": [
       "0"
      ]
     },
     "execution_count": 6,
     "metadata": {},
     "output_type": "execute_result"
    }
   ],
   "source": [
    "# To find duplicate rows\n",
    "df.duplicated().sum()"
   ]
  },
  {
   "cell_type": "code",
   "execution_count": 7,
   "id": "681f8d63",
   "metadata": {},
   "outputs": [
    {
     "data": {
      "text/plain": [
       "state             0\n",
       "area_code         0\n",
       "account_length    0\n",
       "voice_plan        0\n",
       "voice_messages    0\n",
       "intl_plan         0\n",
       "intl_mins         0\n",
       "intl_calls        0\n",
       "intl_charge       0\n",
       "day_mins          0\n",
       "day_calls         0\n",
       "day_charge        0\n",
       "eve_mins          0\n",
       "eve_calls         0\n",
       "eve_charge        0\n",
       "night_mins        0\n",
       "night_calls       0\n",
       "night_charge      0\n",
       "customer_calls    0\n",
       "churn             0\n",
       "dtype: int64"
      ]
     },
     "execution_count": 7,
     "metadata": {},
     "output_type": "execute_result"
    }
   ],
   "source": [
    "# To find null values\n",
    "df.isna().sum()"
   ]
  },
  {
   "cell_type": "code",
   "execution_count": 8,
   "id": "4610107f",
   "metadata": {},
   "outputs": [],
   "source": [
    "# Convert Object columns to float,replace Nan with mean (Imputation)\n",
    "df['day_charge'] = pd.to_numeric(df['day_charge'], 'coerce').pipe(lambda s: s.fillna(s.mean()))\n",
    "df['eve_mins'] = pd.to_numeric(df['eve_mins'], 'coerce').pipe(lambda s: s.fillna(s.mean()))"
   ]
  },
  {
   "cell_type": "code",
   "execution_count": 9,
   "id": "05268487",
   "metadata": {},
   "outputs": [],
   "source": [
    "# Feature engineering\n",
    "# Using EDA most significant features are selected for the model building\n",
    "# Categorical: state [0], voice_plan[3], intl_plan[5], churn[19] \n",
    "# numerical: voice_messages[4], intl_charge[8],\n",
    "# day_charge[11], eve_charge[14], night_charge[17], customer_calls[18]"
   ]
  },
  {
   "cell_type": "code",
   "execution_count": 10,
   "id": "e6f8b41e",
   "metadata": {},
   "outputs": [],
   "source": [
    "# Encoding categorical variables\n",
    "LE = LabelEncoder()\n",
    "df.iloc[:, 0] = LE.fit_transform(df.iloc[:, 0])\n",
    "df.iloc[:, 3] = LE.fit_transform(df.iloc[:, 3])\n",
    "df.iloc[:, 5] = LE.fit_transform(df.iloc[:, 5])\n",
    "df.iloc[:, 19] = LE.fit_transform(df.iloc[:, 19])"
   ]
  },
  {
   "cell_type": "code",
   "execution_count": 11,
   "id": "31263877",
   "metadata": {},
   "outputs": [],
   "source": [
    "# Scaling numerical variables\n",
    "idx_num = [4,8,11,14,17,18]\n",
    "MM = MinMaxScaler()\n",
    "df[df.columns[idx_num]] = MM.fit_transform(df[df.columns[idx_num]])"
   ]
  },
  {
   "cell_type": "code",
   "execution_count": 12,
   "id": "cfff0023",
   "metadata": {},
   "outputs": [
    {
     "data": {
      "text/html": [
       "<div>\n",
       "<style scoped>\n",
       "    .dataframe tbody tr th:only-of-type {\n",
       "        vertical-align: middle;\n",
       "    }\n",
       "\n",
       "    .dataframe tbody tr th {\n",
       "        vertical-align: top;\n",
       "    }\n",
       "\n",
       "    .dataframe thead th {\n",
       "        text-align: right;\n",
       "    }\n",
       "</style>\n",
       "<table border=\"1\" class=\"dataframe\">\n",
       "  <thead>\n",
       "    <tr style=\"text-align: right;\">\n",
       "      <th></th>\n",
       "      <th>state</th>\n",
       "      <th>area_code</th>\n",
       "      <th>account_length</th>\n",
       "      <th>voice_plan</th>\n",
       "      <th>voice_messages</th>\n",
       "      <th>intl_plan</th>\n",
       "      <th>intl_mins</th>\n",
       "      <th>intl_calls</th>\n",
       "      <th>intl_charge</th>\n",
       "      <th>day_mins</th>\n",
       "      <th>day_calls</th>\n",
       "      <th>day_charge</th>\n",
       "      <th>eve_mins</th>\n",
       "      <th>eve_calls</th>\n",
       "      <th>eve_charge</th>\n",
       "      <th>night_mins</th>\n",
       "      <th>night_calls</th>\n",
       "      <th>night_charge</th>\n",
       "      <th>customer_calls</th>\n",
       "      <th>churn</th>\n",
       "    </tr>\n",
       "  </thead>\n",
       "  <tbody>\n",
       "    <tr>\n",
       "      <th>0</th>\n",
       "      <td>16</td>\n",
       "      <td>area_code_415</td>\n",
       "      <td>128</td>\n",
       "      <td>1</td>\n",
       "      <td>0.480769</td>\n",
       "      <td>0</td>\n",
       "      <td>10.0</td>\n",
       "      <td>3</td>\n",
       "      <td>0.500000</td>\n",
       "      <td>265.1</td>\n",
       "      <td>110</td>\n",
       "      <td>0.754183</td>\n",
       "      <td>197.4</td>\n",
       "      <td>99</td>\n",
       "      <td>0.542866</td>\n",
       "      <td>244.7</td>\n",
       "      <td>91</td>\n",
       "      <td>0.619584</td>\n",
       "      <td>0.111111</td>\n",
       "      <td>0</td>\n",
       "    </tr>\n",
       "    <tr>\n",
       "      <th>1</th>\n",
       "      <td>35</td>\n",
       "      <td>area_code_415</td>\n",
       "      <td>107</td>\n",
       "      <td>1</td>\n",
       "      <td>0.500000</td>\n",
       "      <td>0</td>\n",
       "      <td>13.7</td>\n",
       "      <td>3</td>\n",
       "      <td>0.685185</td>\n",
       "      <td>161.6</td>\n",
       "      <td>123</td>\n",
       "      <td>0.459672</td>\n",
       "      <td>195.5</td>\n",
       "      <td>103</td>\n",
       "      <td>0.537690</td>\n",
       "      <td>254.4</td>\n",
       "      <td>103</td>\n",
       "      <td>0.644344</td>\n",
       "      <td>0.111111</td>\n",
       "      <td>0</td>\n",
       "    </tr>\n",
       "    <tr>\n",
       "      <th>2</th>\n",
       "      <td>31</td>\n",
       "      <td>area_code_415</td>\n",
       "      <td>137</td>\n",
       "      <td>0</td>\n",
       "      <td>0.000000</td>\n",
       "      <td>0</td>\n",
       "      <td>12.2</td>\n",
       "      <td>5</td>\n",
       "      <td>0.609259</td>\n",
       "      <td>243.4</td>\n",
       "      <td>114</td>\n",
       "      <td>0.692436</td>\n",
       "      <td>121.2</td>\n",
       "      <td>110</td>\n",
       "      <td>0.333225</td>\n",
       "      <td>162.6</td>\n",
       "      <td>104</td>\n",
       "      <td>0.411930</td>\n",
       "      <td>0.000000</td>\n",
       "      <td>0</td>\n",
       "    </tr>\n",
       "    <tr>\n",
       "      <th>3</th>\n",
       "      <td>35</td>\n",
       "      <td>area_code_408</td>\n",
       "      <td>84</td>\n",
       "      <td>0</td>\n",
       "      <td>0.000000</td>\n",
       "      <td>1</td>\n",
       "      <td>6.6</td>\n",
       "      <td>7</td>\n",
       "      <td>0.329630</td>\n",
       "      <td>299.4</td>\n",
       "      <td>71</td>\n",
       "      <td>0.851740</td>\n",
       "      <td>61.9</td>\n",
       "      <td>88</td>\n",
       "      <td>0.170171</td>\n",
       "      <td>196.9</td>\n",
       "      <td>89</td>\n",
       "      <td>0.498593</td>\n",
       "      <td>0.222222</td>\n",
       "      <td>0</td>\n",
       "    </tr>\n",
       "    <tr>\n",
       "      <th>4</th>\n",
       "      <td>36</td>\n",
       "      <td>area_code_415</td>\n",
       "      <td>75</td>\n",
       "      <td>0</td>\n",
       "      <td>0.000000</td>\n",
       "      <td>1</td>\n",
       "      <td>10.1</td>\n",
       "      <td>3</td>\n",
       "      <td>0.505556</td>\n",
       "      <td>166.7</td>\n",
       "      <td>113</td>\n",
       "      <td>0.474230</td>\n",
       "      <td>148.3</td>\n",
       "      <td>122</td>\n",
       "      <td>0.407959</td>\n",
       "      <td>186.9</td>\n",
       "      <td>121</td>\n",
       "      <td>0.473270</td>\n",
       "      <td>0.333333</td>\n",
       "      <td>0</td>\n",
       "    </tr>\n",
       "  </tbody>\n",
       "</table>\n",
       "</div>"
      ],
      "text/plain": [
       "   state      area_code  account_length  voice_plan  voice_messages  \\\n",
       "0     16  area_code_415             128           1        0.480769   \n",
       "1     35  area_code_415             107           1        0.500000   \n",
       "2     31  area_code_415             137           0        0.000000   \n",
       "3     35  area_code_408              84           0        0.000000   \n",
       "4     36  area_code_415              75           0        0.000000   \n",
       "\n",
       "   intl_plan  intl_mins  intl_calls  intl_charge  day_mins  day_calls  \\\n",
       "0          0       10.0           3     0.500000     265.1        110   \n",
       "1          0       13.7           3     0.685185     161.6        123   \n",
       "2          0       12.2           5     0.609259     243.4        114   \n",
       "3          1        6.6           7     0.329630     299.4         71   \n",
       "4          1       10.1           3     0.505556     166.7        113   \n",
       "\n",
       "   day_charge  eve_mins  eve_calls  eve_charge  night_mins  night_calls  \\\n",
       "0    0.754183     197.4         99    0.542866       244.7           91   \n",
       "1    0.459672     195.5        103    0.537690       254.4          103   \n",
       "2    0.692436     121.2        110    0.333225       162.6          104   \n",
       "3    0.851740      61.9         88    0.170171       196.9           89   \n",
       "4    0.474230     148.3        122    0.407959       186.9          121   \n",
       "\n",
       "   night_charge  customer_calls  churn  \n",
       "0      0.619584        0.111111      0  \n",
       "1      0.644344        0.111111      0  \n",
       "2      0.411930        0.000000      0  \n",
       "3      0.498593        0.222222      0  \n",
       "4      0.473270        0.333333      0  "
      ]
     },
     "execution_count": 12,
     "metadata": {},
     "output_type": "execute_result"
    }
   ],
   "source": [
    "df.head()"
   ]
  },
  {
   "cell_type": "code",
   "execution_count": 13,
   "id": "d6c10198",
   "metadata": {},
   "outputs": [
    {
     "name": "stdout",
     "output_type": "stream",
     "text": [
      "class 0: (4293, 20)\n",
      "class 1: (707, 20)\n"
     ]
    }
   ],
   "source": [
    "# Balancing the dataset\n",
    "# churn variable class count\n",
    "class_count_0, class_count_1 = df['churn'].value_counts()\n",
    "\n",
    "# Separate class\n",
    "class_0 = df[df['churn'] == 0]\n",
    "class_1 = df[df['churn'] == 1]\n",
    "# print the shape of the class\n",
    "print('class 0:', class_0.shape)\n",
    "print('class 1:', class_1.shape)"
   ]
  },
  {
   "cell_type": "code",
   "execution_count": 14,
   "id": "85ef94c4",
   "metadata": {},
   "outputs": [
    {
     "name": "stdout",
     "output_type": "stream",
     "text": [
      "total class of 1 and 0: 1    4293\n",
      "0    4293\n",
      "Name: churn, dtype: int64\n"
     ]
    },
    {
     "data": {
      "text/plain": [
       "<AxesSubplot: title={'center': 'count (target)'}>"
      ]
     },
     "execution_count": 14,
     "metadata": {},
     "output_type": "execute_result"
    },
    {
     "data": {
      "image/png": "[encoded data removed]",
      "text/plain": [
       "<Figure size 640x480 with 1 Axes>"
      ]
     },
     "metadata": {},
     "output_type": "display_data"
    }
   ],
   "source": [
    "# Balancing the dataset: Random over sampling method\n",
    "class_1_over = class_1.sample(class_count_0, replace=True)\n",
    "\n",
    "test_over = pd.concat([class_1_over, class_0], axis=0)\n",
    "\n",
    "print(\"total class of 1 and 0:\",test_over['churn'].value_counts())# plot the count after under-sampling\n",
    "test_over['churn'].value_counts().plot(kind='bar', title='count (target)')"
   ]
  },
  {
   "cell_type": "code",
   "execution_count": 15,
   "id": "24255438",
   "metadata": {},
   "outputs": [
    {
     "name": "stdout",
     "output_type": "stream",
     "text": [
      "<class 'pandas.core.frame.DataFrame'>\n",
      "Int64Index: 8586 entries, 1280 to 4999\n",
      "Data columns (total 20 columns):\n",
      " #   Column          Non-Null Count  Dtype  \n",
      "---  ------          --------------  -----  \n",
      " 0   state           8586 non-null   int32  \n",
      " 1   area_code       8586 non-null   object \n",
      " 2   account_length  8586 non-null   int64  \n",
      " 3   voice_plan      8586 non-null   int32  \n",
      " 4   voice_messages  8586 non-null   float64\n",
      " 5   intl_plan       8586 non-null   int32  \n",
      " 6   intl_mins       8586 non-null   float64\n",
      " 7   intl_calls      8586 non-null   int64  \n",
      " 8   intl_charge     8586 non-null   float64\n",
      " 9   day_mins        8586 non-null   float64\n",
      " 10  day_calls       8586 non-null   int64  \n",
      " 11  day_charge      8586 non-null   float64\n",
      " 12  eve_mins        8586 non-null   float64\n",
      " 13  eve_calls       8586 non-null   int64  \n",
      " 14  eve_charge      8586 non-null   float64\n",
      " 15  night_mins      8586 non-null   float64\n",
      " 16  night_calls     8586 non-null   int64  \n",
      " 17  night_charge    8586 non-null   float64\n",
      " 18  customer_calls  8586 non-null   float64\n",
      " 19  churn           8586 non-null   int32  \n",
      "dtypes: float64(10), int32(4), int64(5), object(1)\n",
      "memory usage: 1.2+ MB\n"
     ]
    }
   ],
   "source": [
    "test_over.info()"
   ]
  },
  {
   "cell_type": "code",
   "execution_count": 16,
   "id": "2497e3ee",
   "metadata": {},
   "outputs": [],
   "source": [
    "# Assigning X, Y \n",
    "\n",
    "X = test_over.iloc[:, [0,3,4,5,8,11,14,17,18]]\n",
    "y = test_over.iloc[:, [-1]]"
   ]
  },
  {
   "cell_type": "code",
   "execution_count": 17,
   "id": "bee5662e",
   "metadata": {},
   "outputs": [],
   "source": [
    "# X, y splitting into train, test\n",
    "\n",
    "X_train, X_test, y_train, y_test = train_test_split(X, y, test_size = 0.3, random_state = 42)"
   ]
  },
  {
   "cell_type": "code",
   "execution_count": 18,
   "id": "d7d6dde4",
   "metadata": {},
   "outputs": [
    {
     "data": {
      "text/plain": [
       "churn\n",
       "0        50.1\n",
       "1        49.9\n",
       "dtype: float64"
      ]
     },
     "execution_count": 18,
     "metadata": {},
     "output_type": "execute_result"
    }
   ],
   "source": [
    "# train portion value counts of churn in percent\n",
    "y_train.value_counts(normalize=True).mul(100).round(2)"
   ]
  },
  {
   "cell_type": "code",
   "execution_count": 19,
   "id": "1a04f36a",
   "metadata": {},
   "outputs": [
    {
     "data": {
      "text/plain": [
       "churn\n",
       "1        50.23\n",
       "0        49.77\n",
       "dtype: float64"
      ]
     },
     "execution_count": 19,
     "metadata": {},
     "output_type": "execute_result"
    }
   ],
   "source": [
    "# test portion value counts of churn in percent\n",
    "y_test.value_counts(normalize=True).mul(100).round(2)"
   ]
  },
  {
   "cell_type": "code",
   "execution_count": 20,
   "id": "6f7e796f",
   "metadata": {},
   "outputs": [
    {
     "name": "stdout",
     "output_type": "stream",
     "text": [
      "Training accuracy: 99.9\n",
      "Test accuracy: 98.0\n"
     ]
    }
   ],
   "source": [
    "# XG Boost Classifier\n",
    "\n",
    "xgb = XGBClassifier(n_estimators = 100, gamma=1, reg_lambda=0.5)\n",
    "              \n",
    "xgb.fit(X_train, y_train)\n",
    "\n",
    "y_pred_train = xgb.predict(X_train)\n",
    "y_pred_test = xgb.predict(X_test)\n",
    "\n",
    "# Metrics\n",
    "ac1_xgb = accuracy_score(y_train, y_pred_train)\n",
    "ac2_xgb = accuracy_score(y_test, y_pred_test)\n",
    "print(\"Training accuracy:\", ac1_xgb.round(3)*100)\n",
    "print(\"Test accuracy:\", ac2_xgb.round(2)*100)"
   ]
  },
  {
   "cell_type": "code",
   "execution_count": 21,
   "id": "6c97cb11",
   "metadata": {},
   "outputs": [
    {
     "name": "stdout",
     "output_type": "stream",
     "text": [
      "neg_mean_squared_error: 0.1766\n",
      "accuracy %: 96.89999999999999\n"
     ]
    }
   ],
   "source": [
    "# Model evalation: K-Fold METHOD\n",
    "kfold = KFold(n_splits=5)\n",
    "\n",
    "results = abs(cross_val_score(xgb, X_train, y_train, cv=kfold,scoring='neg_mean_squared_error'))\n",
    "print('neg_mean_squared_error:', np.mean(np.sqrt(results).round(3)))\n",
    "\n",
    "results = abs(cross_val_score(xgb, X_train, y_train, cv=kfold,scoring='accuracy'))\n",
    "print('accuracy %:',np.mean(results).round(3)*100)"
   ]
  },
  {
   "cell_type": "code",
   "execution_count": 22,
   "id": "77718934",
   "metadata": {},
   "outputs": [
    {
     "data": {
      "image/png": "[encoded data removed]",
      "text/plain": [
       "<Figure size 640x480 with 2 Axes>"
      ]
     },
     "metadata": {},
     "output_type": "display_data"
    }
   ],
   "source": [
    "# Confusion matrix\n",
    "cm = confusion_matrix(y_test, y_pred_test, labels=xgb.classes_)\n",
    "disp = ConfusionMatrixDisplay(confusion_matrix=cm)\n",
    "disp.plot()\n",
    "plt.grid(False)\n",
    "plt.show()"
   ]
  },
  {
   "cell_type": "code",
   "execution_count": 23,
   "id": "1143917e",
   "metadata": {},
   "outputs": [
    {
     "name": "stdout",
     "output_type": "stream",
     "text": [
      "              precision    recall  f1-score   support\n",
      "\n",
      "           0       0.99      0.96      0.98      1282\n",
      "           1       0.97      0.99      0.98      1294\n",
      "\n",
      "    accuracy                           0.98      2576\n",
      "   macro avg       0.98      0.98      0.98      2576\n",
      "weighted avg       0.98      0.98      0.98      2576\n",
      "\n"
     ]
    }
   ],
   "source": [
    "# Classification metrics\n",
    "print(classification_report(y_test, y_pred_test))"
   ]
  },
  {
   "cell_type": "code",
   "execution_count": 24,
   "id": "b5b6d44f",
   "metadata": {},
   "outputs": [
    {
     "name": "stdout",
     "output_type": "stream",
     "text": [
      "Classification accuracy: 0.9798\n",
      "Classification error: 0.0202\n",
      "Precision: 0.9662\n",
      "Recall or Sensitivity : 0.9946\n",
      "True Positive Rate : 0.9946\n",
      "False Positive Rate : 0.0351\n",
      "Specificity : 0.9649\n"
     ]
    }
   ],
   "source": [
    "TN = cm[0,0]\n",
    "TP = cm[1,1]\n",
    "FP = cm[0,1]\n",
    "FN = cm[1,0] \n",
    "\n",
    "classification_accuracy = (TP+TN) / float(TP+TN+FP+FN)\n",
    "print('Classification accuracy: {0:0.4f}'.format(classification_accuracy))\n",
    "\n",
    "classification_error = (FP+FN) / float(TP+TN+FP+FN)\n",
    "print('Classification error: {0:0.4f}'.format(classification_error))\n",
    "\n",
    "precision = TP/float(TP+FP)\n",
    "print('Precision: {0:0.4f}'.format(precision))\n",
    "\n",
    "recall = TP / float(TP+FN)\n",
    "print('Recall or Sensitivity : {0:0.4f}'.format(recall))\n",
    "\n",
    "true_positive_rate = TP / float(TP+FN)\n",
    "print('True Positive Rate : {0:0.4f}'.format(true_positive_rate))\n",
    "\n",
    "false_positive_rate = FP / float(FP+TN)\n",
    "print('False Positive Rate : {0:0.4f}'.format(false_positive_rate))\n",
    "\n",
    "specificity = TN / (TN+FP)\n",
    "print('Specificity : {0:0.4f}'.format(specificity))"
   ]
  },
  {
   "cell_type": "code",
   "execution_count": 25,
   "id": "8d9296d1",
   "metadata": {},
   "outputs": [
    {
     "data": {
      "image/png": "[encoded data removed]",
      "text/plain": [
       "<Figure size 600x400 with 1 Axes>"
      ]
     },
     "metadata": {},
     "output_type": "display_data"
    }
   ],
   "source": [
    "# ROC curve\n",
    "fpr, tpr, thresholds = roc_curve(y_test, y_pred_test)\n",
    "\n",
    "plt.figure(figsize=(6,4))\n",
    "plt.plot(fpr, tpr, linewidth=2)\n",
    "plt.plot([0,1], [0,1], 'k--' )\n",
    "plt.rcParams['font.size'] = 12\n",
    "plt.title('ROC curve for XG Boost Classifier for Predicting churn')\n",
    "plt.xlabel('False Positive Rate (1 - Specificity)')\n",
    "plt.ylabel('True Positive Rate (Sensitivity)')\n",
    "plt.show()"
   ]
  },
  {
   "cell_type": "code",
   "execution_count": 26,
   "id": "32fc8c0a",
   "metadata": {},
   "outputs": [
    {
     "name": "stdout",
     "output_type": "stream",
     "text": [
      "ROC AUC : 0.9797\n"
     ]
    }
   ],
   "source": [
    "ROC_AUC = roc_auc_score(y_test, y_pred_test)\n",
    "print('ROC AUC : {:.4f}'.format(ROC_AUC))"
   ]
  },
  {
   "cell_type": "code",
   "execution_count": 28,
   "id": "807e25f8",
   "metadata": {},
   "outputs": [
    {
     "data": {
      "text/plain": [
       "['xgb_model.pkl']"
      ]
     },
     "execution_count": 28,
     "metadata": {},
     "output_type": "execute_result"
    }
   ],
   "source": [
    "# Save the model to the disk\n",
    "joblib.dump(xgb, 'xgb_model.pkl')"
   ]
  }
 ],
 "metadata": {
  "kernelspec": {
   "display_name": "Python 3 (ipykernel)",
   "language": "python",
   "name": "python3"
  },
  "language_info": {
   "codemirror_mode": {
    "name": "ipython",
    "version": 3
   },
   "file_extension": ".py",
   "mimetype": "text/x-python",
   "name": "python",
   "nbconvert_exporter": "python",
   "pygments_lexer": "ipython3",
   "version": "3.9.13"
  }
 },
 "nbformat": 4,
 "nbformat_minor": 5
}
